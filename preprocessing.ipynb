{
 "cells": [
  {
   "attachments": {},
   "cell_type": "markdown",
   "id": "8ef231b1",
   "metadata": {},
   "source": [
    "Code for the analysis and visualizations for the paper \"A similarity search approach to patent classification\" by Reza Rezazadegan and Zahra Bagheri\n",
    "\n",
    "www.github.com/rezareza007\n",
    "www.dreamintelligent.com\n",
    "\n"
   ]
  },
  {
   "cell_type": "code",
   "execution_count": 13,
   "id": "4e019c1c",
   "metadata": {},
   "outputs": [],
   "source": [
    "import pandas as pd\n",
    "\n",
    "import gc\n",
    "import os.path\n",
    "from tqdm import tqdm\n",
    "\n",
    "import dask.dataframe as dd\n",
    "import nltk\n",
    "#nltk.download('wordnet')\n",
    "\n",
    "fulltext_path=\"data/fulltext.tsv\"\n",
    "preprocessed_path=\"data/fulltext_preprocessed.tsv\"\n",
    "\n"
   ]
  },
  {
   "cell_type": "code",
   "execution_count": 3,
   "id": "c4b42608",
   "metadata": {},
   "outputs": [],
   "source": [
    "# Text preprocessing function\n",
    "\n",
    "from nltk.stem  import PorterStemmer \n",
    "from nltk.stem import WordNetLemmatizer\n",
    "\n",
    "from gensim.parsing.preprocessing import STOPWORDS\n",
    "from  gensim.utils import simple_preprocess\n",
    "\n",
    "\n",
    "ps = PorterStemmer()\n",
    "\n",
    "\n",
    "def text_preprocess(text):\n",
    "\n",
    "   \n",
    "    \n",
    "    if text==\"\":\n",
    "        return []\n",
    "    \n",
    "    \n",
    "    result = []\n",
    "    for token in simple_preprocess(text):\n",
    "        \n",
    "        \n",
    "        if token not in STOPWORDS and len(token) > 3:\n",
    "            result.append(ps.stem(WordNetLemmatizer().lemmatize(token, pos='v') ))\n",
    "\n",
    "    return result"
   ]
  },
  {
   "cell_type": "code",
   "execution_count": 5,
   "id": "423662cc",
   "metadata": {},
   "outputs": [],
   "source": [
    "# The path for brieftext and claims data files\n",
    "\n",
    "rpath=r\"../databases/PatentsView/\"\n",
    "\n",
    "def path(year, type):\n",
    "    if type=='brief':\n",
    "        pathh=rpath+'BriefText/'+'brf_sum_text_'+str(year)+'.tsv.zip'\n",
    "        if year>=2004:\n",
    "            pathh=pathh[:-4]\n",
    "        return pathh\n",
    "    else:\n",
    "        return rpath+'Claims/'+'claims_'+str(year)+'.tsv.zip' \n"
   ]
  },
  {
   "cell_type": "code",
   "execution_count": 6,
   "id": "47f7fa3a",
   "metadata": {},
   "outputs": [
    {
     "name": "stdout",
     "output_type": "stream",
     "text": [
      "INFO: Pandarallel will run on 16 workers.\n",
      "INFO: Pandarallel will use standard multiprocessing data transfer (pipe) to transfer data between the main process and workers.\n",
      "\n",
      "WARNING: You are on Windows. If you detect any issue with pandarallel, be sure you checked out the Troubleshooting page:\n",
      "https://nalepae.github.io/pandarallel/troubleshooting/\n"
     ]
    },
    {
     "name": "stderr",
     "output_type": "stream",
     "text": [
      "  0%|          | 0/46 [00:00<?, ?it/s]"
     ]
    },
    {
     "name": "stdout",
     "output_type": "stream",
     "text": [
      "1976\n"
     ]
    },
    {
     "name": "stderr",
     "output_type": "stream",
     "text": [
      "  2%|▏         | 1/46 [18:22<13:46:56, 1102.60s/it]"
     ]
    },
    {
     "name": "stdout",
     "output_type": "stream",
     "text": [
      "1977\n"
     ]
    },
    {
     "name": "stderr",
     "output_type": "stream",
     "text": [
      "  4%|▍         | 2/46 [35:45<13:02:41, 1067.30s/it]"
     ]
    },
    {
     "name": "stdout",
     "output_type": "stream",
     "text": [
      "1978\n"
     ]
    },
    {
     "name": "stderr",
     "output_type": "stream",
     "text": [
      "  7%|▋         | 3/46 [53:50<12:50:39, 1075.34s/it]"
     ]
    },
    {
     "name": "stdout",
     "output_type": "stream",
     "text": [
      "1979\n"
     ]
    },
    {
     "name": "stderr",
     "output_type": "stream",
     "text": [
      "  9%|▊         | 4/46 [1:07:10<11:16:46, 966.83s/it]"
     ]
    },
    {
     "name": "stdout",
     "output_type": "stream",
     "text": [
      "1980\n"
     ]
    },
    {
     "name": "stderr",
     "output_type": "stream",
     "text": [
      " 11%|█         | 5/46 [1:24:16<11:15:08, 988.01s/it]"
     ]
    },
    {
     "name": "stdout",
     "output_type": "stream",
     "text": [
      "1981\n"
     ]
    },
    {
     "name": "stderr",
     "output_type": "stream",
     "text": [
      " 13%|█▎        | 6/46 [1:42:46<11:26:18, 1029.46s/it]"
     ]
    },
    {
     "name": "stdout",
     "output_type": "stream",
     "text": [
      "1982\n"
     ]
    },
    {
     "name": "stderr",
     "output_type": "stream",
     "text": [
      " 15%|█▌        | 7/46 [1:58:59<10:57:16, 1011.19s/it]"
     ]
    },
    {
     "name": "stdout",
     "output_type": "stream",
     "text": [
      "1983\n"
     ]
    },
    {
     "name": "stderr",
     "output_type": "stream",
     "text": [
      " 17%|█▋        | 8/46 [2:15:01<10:30:28, 995.49s/it] "
     ]
    },
    {
     "name": "stdout",
     "output_type": "stream",
     "text": [
      "1984\n"
     ]
    },
    {
     "name": "stderr",
     "output_type": "stream",
     "text": [
      " 20%|█▉        | 9/46 [2:34:05<10:42:27, 1041.83s/it]"
     ]
    },
    {
     "name": "stdout",
     "output_type": "stream",
     "text": [
      "1985\n"
     ]
    },
    {
     "name": "stderr",
     "output_type": "stream",
     "text": [
      " 22%|██▏       | 10/46 [2:54:52<11:03:04, 1105.12s/it]"
     ]
    },
    {
     "name": "stdout",
     "output_type": "stream",
     "text": [
      "1986\n"
     ]
    },
    {
     "name": "stderr",
     "output_type": "stream",
     "text": [
      " 24%|██▍       | 11/46 [3:16:49<11:22:32, 1170.08s/it]"
     ]
    },
    {
     "name": "stdout",
     "output_type": "stream",
     "text": [
      "1987\n"
     ]
    },
    {
     "name": "stderr",
     "output_type": "stream",
     "text": [
      " 26%|██▌       | 12/46 [3:43:49<12:20:40, 1307.08s/it]"
     ]
    },
    {
     "name": "stdout",
     "output_type": "stream",
     "text": [
      "1988\n"
     ]
    },
    {
     "name": "stderr",
     "output_type": "stream",
     "text": [
      " 28%|██▊       | 13/46 [4:09:49<12:40:58, 1383.58s/it]"
     ]
    },
    {
     "name": "stdout",
     "output_type": "stream",
     "text": [
      "1989\n"
     ]
    },
    {
     "name": "stderr",
     "output_type": "stream",
     "text": [
      " 30%|███       | 14/46 [4:42:03<13:46:39, 1549.98s/it]"
     ]
    },
    {
     "name": "stdout",
     "output_type": "stream",
     "text": [
      "1990\n"
     ]
    },
    {
     "name": "stderr",
     "output_type": "stream",
     "text": [
      " 33%|███▎      | 15/46 [5:12:20<14:02:22, 1630.41s/it]"
     ]
    },
    {
     "name": "stdout",
     "output_type": "stream",
     "text": [
      "1991\n"
     ]
    },
    {
     "name": "stderr",
     "output_type": "stream",
     "text": [
      " 35%|███▍      | 16/46 [5:41:22<13:52:00, 1664.01s/it]"
     ]
    },
    {
     "name": "stdout",
     "output_type": "stream",
     "text": [
      "1992\n"
     ]
    },
    {
     "name": "stderr",
     "output_type": "stream",
     "text": [
      " 37%|███▋      | 17/46 [6:10:54<13:39:56, 1696.43s/it]"
     ]
    },
    {
     "name": "stdout",
     "output_type": "stream",
     "text": [
      "1993\n"
     ]
    },
    {
     "name": "stderr",
     "output_type": "stream",
     "text": [
      " 39%|███▉      | 18/46 [6:41:43<13:33:06, 1742.36s/it]"
     ]
    },
    {
     "name": "stdout",
     "output_type": "stream",
     "text": [
      "1994\n"
     ]
    },
    {
     "name": "stderr",
     "output_type": "stream",
     "text": [
      " 41%|████▏     | 19/46 [7:14:50<13:37:00, 1815.58s/it]"
     ]
    },
    {
     "name": "stdout",
     "output_type": "stream",
     "text": [
      "1995\n"
     ]
    },
    {
     "name": "stderr",
     "output_type": "stream",
     "text": [
      " 43%|████▎     | 20/46 [7:49:03<13:37:39, 1886.91s/it]"
     ]
    },
    {
     "name": "stdout",
     "output_type": "stream",
     "text": [
      "1996\n"
     ]
    },
    {
     "name": "stderr",
     "output_type": "stream",
     "text": [
      " 46%|████▌     | 21/46 [8:27:49<14:01:10, 2018.83s/it]"
     ]
    },
    {
     "name": "stdout",
     "output_type": "stream",
     "text": [
      "1997\n"
     ]
    },
    {
     "name": "stderr",
     "output_type": "stream",
     "text": [
      " 48%|████▊     | 22/46 [9:09:07<14:22:35, 2156.47s/it]"
     ]
    },
    {
     "name": "stdout",
     "output_type": "stream",
     "text": [
      "1998\n"
     ]
    },
    {
     "name": "stderr",
     "output_type": "stream",
     "text": [
      " 50%|█████     | 23/46 [10:04:17<15:59:24, 2502.82s/it]"
     ]
    },
    {
     "name": "stdout",
     "output_type": "stream",
     "text": [
      "1999\n"
     ]
    },
    {
     "name": "stderr",
     "output_type": "stream",
     "text": [
      " 52%|█████▏    | 24/46 [11:02:35<17:07:12, 2801.48s/it]"
     ]
    },
    {
     "name": "stdout",
     "output_type": "stream",
     "text": [
      "2000\n"
     ]
    },
    {
     "name": "stderr",
     "output_type": "stream",
     "text": [
      " 54%|█████▍    | 25/46 [12:02:50<17:45:54, 3045.47s/it]"
     ]
    },
    {
     "name": "stdout",
     "output_type": "stream",
     "text": [
      "2001\n"
     ]
    },
    {
     "name": "stderr",
     "output_type": "stream",
     "text": [
      "C:\\Users\\Asus\\AppData\\Local\\Temp\\ipykernel_15216\\887955281.py:37: DtypeWarning: Columns (1) have mixed types. Specify dtype option on import or set low_memory=False.\n",
      "  df3=pd.read_csv(path(year, 'claim'),sep='\\t',usecols=['patent_id','text']) #chunksize=5000,\n",
      " 57%|█████▋    | 26/46 [12:43:32<15:54:45, 2864.29s/it]"
     ]
    },
    {
     "name": "stdout",
     "output_type": "stream",
     "text": [
      "2002\n"
     ]
    },
    {
     "name": "stderr",
     "output_type": "stream",
     "text": [
      "C:\\Users\\Asus\\AppData\\Local\\Temp\\ipykernel_15216\\887955281.py:37: DtypeWarning: Columns (1) have mixed types. Specify dtype option on import or set low_memory=False.\n",
      "  df3=pd.read_csv(path(year, 'claim'),sep='\\t',usecols=['patent_id','text']) #chunksize=5000,\n",
      " 59%|█████▊    | 27/46 [13:24:50<14:30:23, 2748.60s/it]"
     ]
    },
    {
     "name": "stdout",
     "output_type": "stream",
     "text": [
      "2003\n"
     ]
    },
    {
     "name": "stderr",
     "output_type": "stream",
     "text": [
      "C:\\Users\\Asus\\AppData\\Local\\Temp\\ipykernel_15216\\887955281.py:37: DtypeWarning: Columns (1) have mixed types. Specify dtype option on import or set low_memory=False.\n",
      "  df3=pd.read_csv(path(year, 'claim'),sep='\\t',usecols=['patent_id','text']) #chunksize=5000,\n",
      " 61%|██████    | 28/46 [14:07:12<13:25:59, 2686.66s/it]"
     ]
    },
    {
     "name": "stdout",
     "output_type": "stream",
     "text": [
      "2004\n"
     ]
    },
    {
     "name": "stderr",
     "output_type": "stream",
     "text": [
      "C:\\Users\\Asus\\AppData\\Local\\Temp\\ipykernel_15216\\887955281.py:37: DtypeWarning: Columns (1) have mixed types. Specify dtype option on import or set low_memory=False.\n",
      "  df3=pd.read_csv(path(year, 'claim'),sep='\\t',usecols=['patent_id','text']) #chunksize=5000,\n",
      " 63%|██████▎   | 29/46 [14:46:36<12:13:43, 2589.64s/it]"
     ]
    },
    {
     "name": "stdout",
     "output_type": "stream",
     "text": [
      "2005\n"
     ]
    },
    {
     "name": "stderr",
     "output_type": "stream",
     "text": [
      "C:\\Users\\Asus\\AppData\\Local\\Temp\\ipykernel_15216\\887955281.py:37: DtypeWarning: Columns (1) have mixed types. Specify dtype option on import or set low_memory=False.\n",
      "  df3=pd.read_csv(path(year, 'claim'),sep='\\t',usecols=['patent_id','text']) #chunksize=5000,\n",
      " 65%|██████▌   | 30/46 [15:36:17<12:01:53, 2707.11s/it]"
     ]
    },
    {
     "name": "stdout",
     "output_type": "stream",
     "text": [
      "2006\n"
     ]
    },
    {
     "name": "stderr",
     "output_type": "stream",
     "text": [
      "C:\\Users\\Asus\\AppData\\Local\\Temp\\ipykernel_15216\\887955281.py:37: DtypeWarning: Columns (1) have mixed types. Specify dtype option on import or set low_memory=False.\n",
      "  df3=pd.read_csv(path(year, 'claim'),sep='\\t',usecols=['patent_id','text']) #chunksize=5000,\n",
      " 67%|██████▋   | 31/46 [16:30:57<11:59:43, 2878.90s/it]"
     ]
    },
    {
     "name": "stdout",
     "output_type": "stream",
     "text": [
      "2007\n"
     ]
    },
    {
     "name": "stderr",
     "output_type": "stream",
     "text": [
      "C:\\Users\\Asus\\AppData\\Local\\Temp\\ipykernel_15216\\887955281.py:37: DtypeWarning: Columns (1) have mixed types. Specify dtype option on import or set low_memory=False.\n",
      "  df3=pd.read_csv(path(year, 'claim'),sep='\\t',usecols=['patent_id','text']) #chunksize=5000,\n",
      " 70%|██████▉   | 32/46 [17:22:20<11:26:03, 2940.24s/it]"
     ]
    },
    {
     "name": "stdout",
     "output_type": "stream",
     "text": [
      "2008\n"
     ]
    },
    {
     "name": "stderr",
     "output_type": "stream",
     "text": [
      "C:\\Users\\Asus\\AppData\\Local\\Temp\\ipykernel_15216\\887955281.py:37: DtypeWarning: Columns (1) have mixed types. Specify dtype option on import or set low_memory=False.\n",
      "  df3=pd.read_csv(path(year, 'claim'),sep='\\t',usecols=['patent_id','text']) #chunksize=5000,\n",
      " 72%|███████▏  | 33/46 [18:05:07<10:12:46, 2828.17s/it]"
     ]
    },
    {
     "name": "stdout",
     "output_type": "stream",
     "text": [
      "2009\n"
     ]
    },
    {
     "name": "stderr",
     "output_type": "stream",
     "text": [
      "C:\\Users\\Asus\\AppData\\Local\\Temp\\ipykernel_15216\\887955281.py:37: DtypeWarning: Columns (1) have mixed types. Specify dtype option on import or set low_memory=False.\n",
      "  df3=pd.read_csv(path(year, 'claim'),sep='\\t',usecols=['patent_id','text']) #chunksize=5000,\n",
      " 74%|███████▍  | 34/46 [18:55:58<9:39:02, 2895.17s/it] "
     ]
    },
    {
     "name": "stdout",
     "output_type": "stream",
     "text": [
      "2010\n"
     ]
    },
    {
     "name": "stderr",
     "output_type": "stream",
     "text": [
      "C:\\Users\\Asus\\AppData\\Local\\Temp\\ipykernel_15216\\887955281.py:37: DtypeWarning: Columns (1) have mixed types. Specify dtype option on import or set low_memory=False.\n",
      "  df3=pd.read_csv(path(year, 'claim'),sep='\\t',usecols=['patent_id','text']) #chunksize=5000,\n",
      " 76%|███████▌  | 35/46 [20:07:12<10:06:36, 3308.79s/it]"
     ]
    },
    {
     "name": "stdout",
     "output_type": "stream",
     "text": [
      "2011\n"
     ]
    },
    {
     "name": "stderr",
     "output_type": "stream",
     "text": [
      "C:\\Users\\Asus\\AppData\\Local\\Temp\\ipykernel_15216\\887955281.py:37: DtypeWarning: Columns (1) have mixed types. Specify dtype option on import or set low_memory=False.\n",
      "  df3=pd.read_csv(path(year, 'claim'),sep='\\t',usecols=['patent_id','text']) #chunksize=5000,\n",
      " 78%|███████▊  | 36/46 [21:13:19<9:44:22, 3506.24s/it] "
     ]
    },
    {
     "name": "stdout",
     "output_type": "stream",
     "text": [
      "2012\n"
     ]
    },
    {
     "name": "stderr",
     "output_type": "stream",
     "text": [
      "C:\\Users\\Asus\\AppData\\Local\\Temp\\ipykernel_15216\\887955281.py:37: DtypeWarning: Columns (1) have mixed types. Specify dtype option on import or set low_memory=False.\n",
      "  df3=pd.read_csv(path(year, 'claim'),sep='\\t',usecols=['patent_id','text']) #chunksize=5000,\n",
      " 80%|████████  | 37/46 [22:31:39<9:39:40, 3864.48s/it]"
     ]
    },
    {
     "name": "stdout",
     "output_type": "stream",
     "text": [
      "2013\n"
     ]
    },
    {
     "name": "stderr",
     "output_type": "stream",
     "text": [
      "C:\\Users\\Asus\\AppData\\Local\\Temp\\ipykernel_15216\\887955281.py:20: DtypeWarning: Columns (0) have mixed types. Specify dtype option on import or set low_memory=False.\n",
      "  df1=pd.read_csv(path(year, 'brief'),sep='\\t', usecols=['patent_id', textcol]) #,chunksize=1000)\n",
      "C:\\Users\\Asus\\AppData\\Local\\Temp\\ipykernel_15216\\887955281.py:37: DtypeWarning: Columns (1) have mixed types. Specify dtype option on import or set low_memory=False.\n",
      "  df3=pd.read_csv(path(year, 'claim'),sep='\\t',usecols=['patent_id','text']) #chunksize=5000,\n",
      " 83%|████████▎ | 38/46 [23:56:20<9:23:54, 4229.28s/it]"
     ]
    },
    {
     "name": "stdout",
     "output_type": "stream",
     "text": [
      "2014\n"
     ]
    },
    {
     "name": "stderr",
     "output_type": "stream",
     "text": [
      "C:\\Users\\Asus\\AppData\\Local\\Temp\\ipykernel_15216\\887955281.py:20: DtypeWarning: Columns (0) have mixed types. Specify dtype option on import or set low_memory=False.\n",
      "  df1=pd.read_csv(path(year, 'brief'),sep='\\t', usecols=['patent_id', textcol]) #,chunksize=1000)\n",
      "C:\\Users\\Asus\\AppData\\Local\\Temp\\ipykernel_15216\\887955281.py:37: DtypeWarning: Columns (1) have mixed types. Specify dtype option on import or set low_memory=False.\n",
      "  df3=pd.read_csv(path(year, 'claim'),sep='\\t',usecols=['patent_id','text']) #chunksize=5000,\n",
      " 85%|████████▍ | 39/46 [25:29:09<9:00:18, 4631.16s/it]"
     ]
    },
    {
     "name": "stdout",
     "output_type": "stream",
     "text": [
      "2015\n"
     ]
    },
    {
     "name": "stderr",
     "output_type": "stream",
     "text": [
      "C:\\Users\\Asus\\AppData\\Local\\Temp\\ipykernel_15216\\887955281.py:20: DtypeWarning: Columns (1) have mixed types. Specify dtype option on import or set low_memory=False.\n",
      "  df1=pd.read_csv(path(year, 'brief'),sep='\\t', usecols=['patent_id', textcol]) #,chunksize=1000)\n",
      "C:\\Users\\Asus\\AppData\\Local\\Temp\\ipykernel_15216\\887955281.py:37: DtypeWarning: Columns (1) have mixed types. Specify dtype option on import or set low_memory=False.\n",
      "  df3=pd.read_csv(path(year, 'claim'),sep='\\t',usecols=['patent_id','text']) #chunksize=5000,\n",
      " 87%|████████▋ | 40/46 [26:55:50<8:00:12, 4802.11s/it]"
     ]
    },
    {
     "name": "stdout",
     "output_type": "stream",
     "text": [
      "2016\n"
     ]
    },
    {
     "name": "stderr",
     "output_type": "stream",
     "text": [
      "C:\\Users\\Asus\\AppData\\Local\\Temp\\ipykernel_15216\\887955281.py:20: DtypeWarning: Columns (1) have mixed types. Specify dtype option on import or set low_memory=False.\n",
      "  df1=pd.read_csv(path(year, 'brief'),sep='\\t', usecols=['patent_id', textcol]) #,chunksize=1000)\n",
      "C:\\Users\\Asus\\AppData\\Local\\Temp\\ipykernel_15216\\887955281.py:37: DtypeWarning: Columns (1) have mixed types. Specify dtype option on import or set low_memory=False.\n",
      "  df3=pd.read_csv(path(year, 'claim'),sep='\\t',usecols=['patent_id','text']) #chunksize=5000,\n",
      " 89%|████████▉ | 41/46 [28:23:36<6:51:46, 4941.23s/it]"
     ]
    },
    {
     "name": "stdout",
     "output_type": "stream",
     "text": [
      "2017\n"
     ]
    },
    {
     "name": "stderr",
     "output_type": "stream",
     "text": [
      "C:\\Users\\Asus\\AppData\\Local\\Temp\\ipykernel_15216\\887955281.py:20: DtypeWarning: Columns (0) have mixed types. Specify dtype option on import or set low_memory=False.\n",
      "  df1=pd.read_csv(path(year, 'brief'),sep='\\t', usecols=['patent_id', textcol]) #,chunksize=1000)\n",
      "C:\\Users\\Asus\\AppData\\Local\\Temp\\ipykernel_15216\\887955281.py:37: DtypeWarning: Columns (1) have mixed types. Specify dtype option on import or set low_memory=False.\n",
      "  df3=pd.read_csv(path(year, 'claim'),sep='\\t',usecols=['patent_id','text']) #chunksize=5000,\n",
      " 91%|█████████▏| 42/46 [29:57:52<5:43:42, 5155.67s/it]"
     ]
    },
    {
     "name": "stdout",
     "output_type": "stream",
     "text": [
      "2018\n"
     ]
    },
    {
     "name": "stderr",
     "output_type": "stream",
     "text": [
      "C:\\Users\\Asus\\AppData\\Local\\Temp\\ipykernel_15216\\887955281.py:20: DtypeWarning: Columns (0) have mixed types. Specify dtype option on import or set low_memory=False.\n",
      "  df1=pd.read_csv(path(year, 'brief'),sep='\\t', usecols=['patent_id', textcol]) #,chunksize=1000)\n",
      "C:\\Users\\Asus\\AppData\\Local\\Temp\\ipykernel_15216\\887955281.py:37: DtypeWarning: Columns (1) have mixed types. Specify dtype option on import or set low_memory=False.\n",
      "  df3=pd.read_csv(path(year, 'claim'),sep='\\t',usecols=['patent_id','text']) #chunksize=5000,\n",
      " 93%|█████████▎| 43/46 [31:31:58<4:25:08, 5302.83s/it]"
     ]
    },
    {
     "name": "stdout",
     "output_type": "stream",
     "text": [
      "2019\n"
     ]
    },
    {
     "name": "stderr",
     "output_type": "stream",
     "text": [
      "C:\\Users\\Asus\\AppData\\Local\\Temp\\ipykernel_15216\\887955281.py:20: DtypeWarning: Columns (0) have mixed types. Specify dtype option on import or set low_memory=False.\n",
      "  df1=pd.read_csv(path(year, 'brief'),sep='\\t', usecols=['patent_id', textcol]) #,chunksize=1000)\n",
      "C:\\Users\\Asus\\AppData\\Local\\Temp\\ipykernel_15216\\887955281.py:37: DtypeWarning: Columns (1) have mixed types. Specify dtype option on import or set low_memory=False.\n",
      "  df3=pd.read_csv(path(year, 'claim'),sep='\\t',usecols=['patent_id','text']) #chunksize=5000,\n",
      " 96%|█████████▌| 44/46 [33:19:54<3:08:29, 5654.90s/it]"
     ]
    },
    {
     "name": "stdout",
     "output_type": "stream",
     "text": [
      "2020\n"
     ]
    },
    {
     "name": "stderr",
     "output_type": "stream",
     "text": [
      "C:\\Users\\Asus\\AppData\\Local\\Temp\\ipykernel_15216\\887955281.py:37: DtypeWarning: Columns (1) have mixed types. Specify dtype option on import or set low_memory=False.\n",
      "  df3=pd.read_csv(path(year, 'claim'),sep='\\t',usecols=['patent_id','text']) #chunksize=5000,\n",
      " 98%|█████████▊| 45/46 [35:19:08<1:41:44, 6104.68s/it]"
     ]
    },
    {
     "name": "stdout",
     "output_type": "stream",
     "text": [
      "2021\n"
     ]
    },
    {
     "name": "stderr",
     "output_type": "stream",
     "text": [
      "C:\\Users\\Asus\\AppData\\Local\\Temp\\ipykernel_15216\\887955281.py:37: DtypeWarning: Columns (1) have mixed types. Specify dtype option on import or set low_memory=False.\n",
      "  df3=pd.read_csv(path(year, 'claim'),sep='\\t',usecols=['patent_id','text']) #chunksize=5000,\n",
      "100%|██████████| 46/46 [37:20:36<00:00, 2922.53s/it]  \n"
     ]
    }
   ],
   "source": [
    "from pandarallel import pandarallel\n",
    "pandarallel.initialize()\n",
    "\n",
    "\n",
    "for year in tqdm(range(1976, 2022)):\n",
    "    \n",
    "\n",
    "    print(year)\n",
    "\n",
    "\n",
    "    textcol='text' if year not in [2004, 2005, 2013, 2014, 2011, 2017, 2018, 2019] else 'summary_text'\n",
    "\n",
    "\n",
    "    # patent Brief texts\n",
    "    df1=pd.read_csv(path(year, 'brief'),sep='\\t', usecols=['patent_id', textcol]) #,chunksize=1000)\n",
    "    df1=df1.rename(columns={textcol:'brief_text'})\n",
    "    df1=df1.dropna()\n",
    "\n",
    "    df1.brief_text=df1.brief_text.parallel_apply(lambda x: str(x).replace( '\\n',' '  ).replace('\\t', ' ')).replace(r\"\\r\", \"\").replace(\"\\\"\", \"\" ) \n",
    "\n",
    "\n",
    "    df1=df1[df1.patent_id.astype(str).str.isnumeric()]\n",
    "\n",
    "    #patent claims\n",
    "    df3=pd.read_csv(path(year, 'claim'),sep='\\t',usecols=['patent_id','text']) #chunksize=5000,\n",
    "    df3=df3.dropna()\n",
    "\n",
    "    df3=df3.rename(columns={'text':'claim_text'})\n",
    "    df3=df3[df3.patent_id.astype(str).str.isnumeric()]\n",
    "\n",
    "    df3.claim_text=df3.claim_text.parallel_apply(lambda x: str(x).replace( '\\n',' '  ).replace('\\t', ' ').replace(r\"\\r\", \"\").replace(\"\\\"\", \"\" ) )\n",
    "\n",
    "\n",
    "    df_g=df3.groupby('patent_id', sort=False)['claim_text'].apply(' '.join)\n",
    "    df_claim=pd.DataFrame(df_g)\n",
    "\n",
    "\n",
    "    del df3\n",
    "    del df_g\n",
    "    gc.collect()\n",
    "\n",
    "    #merging the two\n",
    "    df_merge=df1.merge(df_claim,on='patent_id', how='left')\n",
    "\n",
    "    # Here fulltext means merger of brieftext and claims \n",
    "\n",
    "    df_merge['full_text']=df_merge.parallel_apply(lambda X: str(X.brief_text)+\" \"+str(X.claim_text), axis=1)\n",
    "    df_merge=df_merge[['patent_id','full_text']]\n",
    "\n",
    "    df_merge=df_merge.rename(columns={'patent_id': 'patent_number'})\n",
    "\n",
    "    \n",
    "    print(\"Writing merged texts to disk\")\n",
    "    df_merge.to_csv(fulltext_path,index=False, header=not os.path.exists(fulltext_path), mode='a', sep='\\t')\n",
    "\n",
    "    #Applying preprocess function\n",
    "    df_merge['text_preprocessed']=df_merge.full_text.apply(lambda x: \" \".join(text_preprocess))\n",
    "    df_merge[['patent_number', 'text_preprocessed']].to_csv(preprocessed_path,index=False, header=not os.path.exists(preprocessed_path), mode='a', sep='\\t')\n",
    "\n",
    "\n",
    "\n",
    "    #it's not needed anymore\n",
    "    del df_merge\n",
    "    gc.collect()\n",
    "\n",
    "\n",
    "\n"
   ]
  },
  {
   "cell_type": "markdown",
   "id": "7cd1fd6b",
   "metadata": {},
   "source": [
    "# word2vec model"
   ]
  },
  {
   "cell_type": "code",
   "execution_count": 6,
   "id": "096e536b",
   "metadata": {},
   "outputs": [],
   "source": [
    "import pickle\n",
    "f=open(\"data/dictionary_full\", \"rb\")\n",
    "dictionary=pickle.load(f)\n",
    "f.close()"
   ]
  },
  {
   "cell_type": "code",
   "execution_count": 1,
   "id": "412190d9",
   "metadata": {},
   "outputs": [],
   "source": [
    "\n",
    "class SentenceIterator: \n",
    "    def __init__(self, filepath): \n",
    "        self.filepath = filepath \n",
    "\n",
    "    def __iter__(self): \n",
    "        for line in open(self.filepath): \n",
    "            #print(line.split()[1:])\n",
    "            yield line.split() [1:] #dictionary.doc2bow(line.split()[1:])   \n",
    "\n",
    "sentences = SentenceIterator(\"data/fulltext_preprocessed.tsv\") \n",
    "\n",
    "\n",
    "\n"
   ]
  },
  {
   "cell_type": "code",
   "execution_count": 3,
   "id": "68882fd9",
   "metadata": {},
   "outputs": [],
   "source": [
    "from gensim.models import Word2Vec\n",
    "word2vec_model=Word2Vec(sentences, workers=20)"
   ]
  },
  {
   "cell_type": "code",
   "execution_count": null,
   "id": "d7d88c92",
   "metadata": {},
   "outputs": [],
   "source": [
    "word2vec_model.save('data/word2vec_full.model')"
   ]
  }
 ],
 "metadata": {
  "kernelspec": {
   "display_name": "base",
   "language": "python",
   "name": "python3"
  },
  "language_info": {
   "codemirror_mode": {
    "name": "ipython",
    "version": 3
   },
   "file_extension": ".py",
   "mimetype": "text/x-python",
   "name": "python",
   "nbconvert_exporter": "python",
   "pygments_lexer": "ipython3",
   "version": "3.9.16"
  },
  "vscode": {
   "interpreter": {
    "hash": "19d1d53a962d236aa061289c2ac16dc8e6d9648c89fe79f459ae9a3493bc67b4"
   }
  }
 },
 "nbformat": 4,
 "nbformat_minor": 5
}
